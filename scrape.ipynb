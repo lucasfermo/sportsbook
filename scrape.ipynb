{
 "cells": [
  {
   "cell_type": "markdown",
   "id": "0c06c2da",
   "metadata": {},
   "source": [
    "## Imports"
   ]
  },
  {
   "cell_type": "code",
   "execution_count": 71,
   "id": "aa439fee",
   "metadata": {
    "ExecuteTime": {
     "end_time": "2022-11-07T22:59:35.581134Z",
     "start_time": "2022-11-07T22:59:35.574143Z"
    }
   },
   "outputs": [],
   "source": [
    "import pandas as pd\n",
    "\n",
    "from requests import get\n",
    "from bs4 import BeautifulSoup\n",
    "\n",
    "from urllib.parse import quote_plus\n",
    "import sqlalchemy\n",
    "\n",
    "from selenium import webdriver\n",
    "from selenium.webdriver.chrome.service import Service\n",
    "from selenium.webdriver.common.by import By\n",
    "import datetime\n",
    "import time"
   ]
  },
  {
   "cell_type": "markdown",
   "id": "91f794b2",
   "metadata": {
    "heading_collapsed": true
   },
   "source": [
    "## Helper Functions"
   ]
  },
  {
   "cell_type": "code",
   "execution_count": 2,
   "id": "acc21874",
   "metadata": {
    "ExecuteTime": {
     "end_time": "2022-11-07T21:59:07.181762Z",
     "start_time": "2022-11-07T21:59:07.157929Z"
    },
    "hidden": true
   },
   "outputs": [],
   "source": [
    "def to_csv(df_name,index=True):\n",
    "    df=eval(df_name)\n",
    "    file_name=\"outputs/{}_{}.csv\".format(df_name,\n",
    "                                         datetime.datetime.now().strftime(\"%Y%m%d_%H%M%S\"))\n",
    "    df.to_csv(file_name,index=index)\n",
    "    print(\"{} has been output\".format(file_name))\n",
    "    "
   ]
  },
  {
   "cell_type": "markdown",
   "id": "d716f066",
   "metadata": {
    "ExecuteTime": {
     "end_time": "2022-11-07T23:41:18.218742Z",
     "start_time": "2022-11-07T23:41:18.201251Z"
    },
    "heading_collapsed": true
   },
   "source": [
    "## Create Engine"
   ]
  },
  {
   "cell_type": "code",
   "execution_count": 3,
   "id": "05a7a989",
   "metadata": {
    "ExecuteTime": {
     "end_time": "2022-11-07T21:59:08.415917Z",
     "start_time": "2022-11-07T21:59:08.360006Z"
    },
    "hidden": true
   },
   "outputs": [],
   "source": [
    "def ms_create_engine(db,server=\"MSI\\TEST_LF1\",mode=\"PROD\"):\n",
    "    if mode == \"TEST\": db=\"TEST_{}\".format(db)\n",
    "    \n",
    "    conn_str=(r'Driver={SQL Server};'\n",
    "              r'Server='+server + ';'\n",
    "              r'Database=' + db +';'\n",
    "              r'Trusted_Connection=yes;')\n",
    "    \n",
    "    quoted_conn_str=quote_plus(conn_str)\n",
    "    engine=sqlalchemy.create_engine(\"mssql+pyodbc:///?odbc_connect={}\".format(quoted_conn_str))\n",
    "    \n",
    "    return engine\n",
    "\n",
    "ent_engine=ms_create_engine(\"SPORTSBOOK\")\n",
    "#prod_ent_engine=ms_create_engine(\"ENT_Warehouse\",\"TORSQL\")"
   ]
  },
  {
   "cell_type": "markdown",
   "id": "321de7c7",
   "metadata": {
    "ExecuteTime": {
     "end_time": "2022-11-07T23:41:09.997226Z",
     "start_time": "2022-11-07T23:41:09.985422Z"
    },
    "heading_collapsed": true
   },
   "source": [
    "## Scrape Functions"
   ]
  },
  {
   "cell_type": "code",
   "execution_count": 4,
   "id": "cf81fc50",
   "metadata": {
    "ExecuteTime": {
     "end_time": "2022-11-07T21:59:09.543493Z",
     "start_time": "2022-11-07T21:59:09.527459Z"
    },
    "hidden": true
   },
   "outputs": [],
   "source": [
    "\n",
    "def compile_handicap(input_handicap):\n",
    "    handicap_list=input_handicap\n",
    "    output_hc_list=[]\n",
    "    temp_hc_list=[]\n",
    "    temp_hc_dict={}\n",
    "    for handicap in handicap_list:\n",
    "        hc=handicap.lower()\n",
    "\n",
    "        if \"+\" in hc:\n",
    "            temp_hc_dict[\"line_type\"]=\"favorite\"\n",
    "            temp_hc_dict[\"line\"]=hc.split(\"+\")[1]\n",
    "            output_hc_list.append(temp_hc_dict)\n",
    "            temp_hc_dict={}\n",
    "        elif \"-\" in hc:\n",
    "            temp_hc_dict[\"line_type\"]=\"underdog\"\n",
    "            temp_hc_dict[\"line\"]=hc.split(\"-\")[1]\n",
    "            output_hc_list.append(temp_hc_dict)\n",
    "            temp_hc_dict={}\n",
    "        elif \"o\" in hc:\n",
    "            temp_hc_dict[\"line_type\"]=\"over\"\n",
    "            #temp_hc_dict[\"line\"]=hc.split(\"o\")[1]\n",
    "\n",
    "        elif \"u\" in hc:\n",
    "            temp_hc_dict[\"line_type\"]=\"under\"\n",
    "            #temp_hc_dict[\"line\"]=hc.split(\"u\")[1]\n",
    "        else:\n",
    "            temp_hc_dict[\"line\"]=hc\n",
    "            output_hc_list.append(temp_hc_dict)\n",
    "            temp_hc_dict={}\n",
    "    return output_hc_list\n",
    "    "
   ]
  },
  {
   "cell_type": "code",
   "execution_count": 5,
   "id": "68f5147e",
   "metadata": {
    "ExecuteTime": {
     "end_time": "2022-11-07T21:59:13.018925Z",
     "start_time": "2022-11-07T21:59:11.757959Z"
    },
    "hidden": true
   },
   "outputs": [],
   "source": [
    "#Start Chromedrivert\n",
    "def init_chromedriver():\n",
    "    #ser=Service(\"C://Users//fermo//Downloads//chromedriver_win32\")\n",
    "    ser=\"C://Users//fermo//Downloads//chromedriver_win32//chromedriver\"\n",
    "    op=webdriver.ChromeOptions()\n",
    "    d=webdriver.Chrome(ser,options=op)\n",
    "    return d\n",
    "\n",
    "d=init_chromedriver()"
   ]
  },
  {
   "cell_type": "code",
   "execution_count": 90,
   "id": "54b2ed86",
   "metadata": {
    "ExecuteTime": {
     "end_time": "2022-11-07T23:16:22.910201Z",
     "start_time": "2022-11-07T23:16:22.016400Z"
    },
    "hidden": true
   },
   "outputs": [],
   "source": []
  },
  {
   "cell_type": "code",
   "execution_count": 104,
   "id": "a5f19548",
   "metadata": {
    "ExecuteTime": {
     "end_time": "2022-11-07T23:35:31.844714Z",
     "start_time": "2022-11-07T23:35:31.817451Z"
    },
    "hidden": true
   },
   "outputs": [
    {
     "name": "stdout",
     "output_type": "stream",
     "text": [
      "outputs/bb_df_20221107_183531.csv has been output\n"
     ]
    }
   ],
   "source": [
    "to_csv(\"bb_df\")"
   ]
  },
  {
   "cell_type": "code",
   "execution_count": 89,
   "id": "3a55d1ef",
   "metadata": {
    "ExecuteTime": {
     "end_time": "2022-11-07T23:15:57.431523Z",
     "start_time": "2022-11-07T23:15:57.411590Z"
    },
    "hidden": true
   },
   "outputs": [
    {
     "data": {
      "text/plain": [
       "(1244, 12)"
      ]
     },
     "execution_count": 89,
     "metadata": {},
     "output_type": "execute_result"
    }
   ],
   "source": [
    "bb_df.shape"
   ]
  },
  {
   "cell_type": "markdown",
   "id": "8f2063d3",
   "metadata": {},
   "source": [
    "## Bodog Functions"
   ]
  },
  {
   "cell_type": "code",
   "execution_count": 111,
   "id": "205c7eed",
   "metadata": {
    "ExecuteTime": {
     "end_time": "2022-11-07T23:46:10.648778Z",
     "start_time": "2022-11-07T23:46:10.636291Z"
    }
   },
   "outputs": [],
   "source": [
    "def scrape_bodog_basketball(d):\n",
    "        \n",
    "        \n",
    "    bodog_columns=['timestamp',\n",
    "'hero',\n",
    "'villain',\n",
    "\"home_flag\",\n",
    "'market',\n",
    "'line',\n",
    "'line_type',\n",
    "'price',\n",
    "'match_id',\n",
    "'league',\n",
    "'sport',\n",
    "'hero_score',\n",
    "'villain_score',\n",
    "'line_key']\n",
    "\n",
    "    \n",
    "    \n",
    "    target_url=\"https://www.bodog.eu/sports/basketball\"\n",
    "    d.get(target_url)\n",
    "\n",
    "    time.sleep(10)\n",
    "\n",
    "    #bodog_open_coupon_groups(d,0)\n",
    "    \n",
    "    coupon_elem=d.find_elements(By.CLASS_NAME,'multi3')\n",
    "    print(len(coupon_elem))\n",
    "    bet_list=[]\n",
    "    hist_market_elem=0\n",
    "    for ic,coupon in enumerate(coupon_elem[:]):\n",
    "        #print(c.get_attribute(\"outerHTML\"))\n",
    "        \n",
    "        temp_dict_list,hist_market_elem=scrape_bodog_coupon(coupon,ic,hist_market_elem)\n",
    "        if temp_dict_list: bet_list=bet_list + temp_dict_list\n",
    "\n",
    "    bet_df=pd.DataFrame(bet_list)\n",
    "    bet_df[\"line_key\"]=bet_df[\"match\"]\n",
    "    bet_df=bet_df[bodog_columns]\n",
    "    \n",
    "    print(\"Output Bet Dataframe\")\n",
    "    return bet_df\n",
    "\n",
    "\n",
    "\n",
    "\n",
    "def scrape_bodog_coupon(coupon_elem,counter,hist_market_elem):\n",
    "    \n",
    "    meta_dict=bodog_get_match_meta_data(coupon_elem)\n",
    "\n",
    "    temp_dict_list=[]\n",
    "    #Get market label headers. If no header for coupon, use last header\n",
    "    try:\n",
    "        #if counter>0: hist_market_elem=market_elem\n",
    "        market_elem=coupon_elem.find_element(By.CLASS_NAME,\"market-header\")\n",
    "        hist_market_elem=market_elem\n",
    "    except Exception as e:\n",
    "        market_elem=hist_market_elem\n",
    "    try: \n",
    "    \n",
    "        market_split=market_elem.get_attribute(\"innerText\").split(\"\\n\")\n",
    "    except:\n",
    "        return 0, hist_market_elem\n",
    "\n",
    "    bet_price=coupon_elem.find_elements(By.CLASS_NAME,'bet-price')\n",
    "    handicap_elem=coupon_elem.find_elements(By.CLASS_NAME,\"market-line\")\n",
    "    handicap=[x.get_attribute(\"innerHTML\") for x in handicap_elem]\n",
    "    handicap_list=compile_handicap(handicap)\n",
    "\n",
    "    \n",
    "    hc_counter=0\n",
    "    for im, market in enumerate(market_split):\n",
    "        \n",
    "        for ib,bet in enumerate(bet_price[im*2:im*2+2]):\n",
    "            price=bet.get_attribute(\"innerText\")\n",
    "            temp_dict=meta_dict.copy()\n",
    "            \n",
    "            \n",
    "            temp_dict[\"home_flag\"]=ib%2\n",
    "            temp_dict[\"hero\"]=meta_dict[\"comp_names\"][ib%2]\n",
    "            temp_dict[\"villain\"]=meta_dict[\"comp_names\"][(ib+1)%2]\n",
    "            temp_dict[\"market\"]=market\n",
    "            if \"(\" in price:\n",
    "                temp_dict[\"line\"]=handicap_list[hc_counter][\"line\"]\n",
    "                temp_dict[\"line_type\"]=handicap_list[hc_counter][\"line_type\"]\n",
    "            else:\n",
    "                temp_dict[\"line\"]=\"\"\n",
    "                temp_dict[\"line_type\"]=\"\"\n",
    "\n",
    "            temp_dict[\"price\"]=price.replace(\"(\",\"\").replace(\")\",\"\")\n",
    "            try:\n",
    "                temp_dict[\"hero_score\"]=meta_dict[\"results_value\"][ib%2]\n",
    "                temp_dict[\"villain_score\"]=meta_dict[\"results_value\"][(ib+1)%2]\n",
    "            except: \n",
    "                temp_dict[\"hero_score\"]=\"\"\n",
    "                temp_dict[\"villain_score\"]=\"\"\n",
    "                \n",
    "            temp_dict_list.append(temp_dict)\n",
    "\n",
    "    return  temp_dict_list,hist_market_elem    \n",
    "\n",
    "\n",
    "def bodog_get_match_meta_data(coupon_elem):\n",
    "    meta_dict={}\n",
    "    try:\n",
    "        match_id_elem=coupon_elem.find_element(By.TAG_NAME,\"a\")\n",
    "    except Exception as e:\n",
    "        print(e)\n",
    "        return 0,hist_market_elem\n",
    "    match_id_split=match_id_elem.get_attribute(\"href\").split(\"/\")\n",
    "    meta_dict[\"match_id\"]=match_id_split[-1]\n",
    "    print(meta_dict[\"match_id\"])\n",
    "    meta_dict[\"league\"]=match_id_split[-2]\n",
    "    meta_dict[\"sport\"]=match_id_split[4]\n",
    "\n",
    "    comp_elem=coupon_elem.find_elements(By.CLASS_NAME,\"competitor-name\")\n",
    "    meta_dict[\"comp_names\"]=[x.get_attribute(\"innerText\") for x in comp_elem]\n",
    "    results_elem=coupon_elem.find_elements(By.CLASS_NAME,\"score-nr\")\n",
    "\n",
    "    meta_dict[\"results_value\"]=[x.get_attribute(\"innerText\") for x in results_elem][:2]\n",
    "    meta_dict[\"timestamp\"]=datetime.datetime.now()\n",
    "    return meta_dict\n",
    "    #def bodog_scrape_market(d):\n",
    "    \n",
    "\n",
    "#to_csv(\"bet_df\")"
   ]
  },
  {
   "cell_type": "code",
   "execution_count": 106,
   "id": "3cf487fb",
   "metadata": {
    "ExecuteTime": {
     "end_time": "2022-11-07T23:39:03.753519Z",
     "start_time": "2022-11-07T23:39:03.748424Z"
    }
   },
   "outputs": [],
   "source": [
    "def bodog_open_coupon_groups(d,counter):\n",
    "    \n",
    "    try:\n",
    "        print(\"showing more\")\n",
    "        show_more_elem=d.find_element(By.ID,\"showMore\")\n",
    "        show_more_elem.click()\n",
    "        time.sleep(4)\n",
    "        if d.find_element(By.ID,\"showMore\"):\n",
    "            bodog_open_coupon_groups(d,counter+1)\n",
    "            return 0\n",
    "    except Exception as e:\n",
    "        print(e)\n",
    "        print(\"no show more button\")\n",
    "        pass\n",
    "        \n",
    "    header_elem=d.find_elements(By.CLASS_NAME,\"league-header-collapsible--collapsed\")\n",
    "\n",
    "    for h in header_elem:\n",
    "        try:\n",
    "            h.click()\n",
    "        except:\n",
    "            continue\n",
    "    print(\"opened\")\n",
    "    return d"
   ]
  },
  {
   "cell_type": "markdown",
   "id": "4b9ac3f3",
   "metadata": {},
   "source": [
    "## Scheduled Code"
   ]
  },
  {
   "cell_type": "code",
   "execution_count": 112,
   "id": "39bb957a",
   "metadata": {
    "ExecuteTime": {
     "end_time": "2022-11-07T23:46:37.631253Z",
     "start_time": "2022-11-07T23:46:22.833897Z"
    }
   },
   "outputs": [
    {
     "name": "stdout",
     "output_type": "stream",
     "text": [
      "60\n",
      "coppin-state-charlotte-202211071800\n",
      "ipfw-michigan-22-202211071830\n",
      "la-salle-villanova-16-202211071830\n",
      "colonias-gold-basketball-libertad-asuncion-202211071730\n",
      "olimpia-kings-deportivo-san-jose-202211071730\n",
      "mil-bucks-active-pg-bos-celtics-shinigami-202211071822\n"
     ]
    },
    {
     "ename": "StaleElementReferenceException",
     "evalue": "Message: stale element reference: element is not attached to the page document\n  (Session info: chrome=107.0.5304.88)\n",
     "output_type": "error",
     "traceback": [
      "\u001b[1;31m---------------------------------------------------------------------------\u001b[0m",
      "\u001b[1;31mStaleElementReferenceException\u001b[0m            Traceback (most recent call last)",
      "\u001b[1;32m<ipython-input-112-908e04f7c3de>\u001b[0m in \u001b[0;36m<module>\u001b[1;34m\u001b[0m\n\u001b[0;32m      1\u001b[0m \u001b[0md\u001b[0m\u001b[1;33m=\u001b[0m\u001b[0minit_chromedriver\u001b[0m\u001b[1;33m(\u001b[0m\u001b[1;33m)\u001b[0m\u001b[1;33m\u001b[0m\u001b[1;33m\u001b[0m\u001b[0m\n\u001b[1;32m----> 2\u001b[1;33m \u001b[0mbb_df\u001b[0m\u001b[1;33m=\u001b[0m\u001b[0mscrape_bodog_basketball\u001b[0m\u001b[1;33m(\u001b[0m\u001b[0md\u001b[0m\u001b[1;33m)\u001b[0m\u001b[1;33m\u001b[0m\u001b[1;33m\u001b[0m\u001b[0m\n\u001b[0m\u001b[0;32m      3\u001b[0m \u001b[1;31m#bb_df.to_sql(\"fact_lines\",ent_engine,if_exists='append',index=False)\u001b[0m\u001b[1;33m\u001b[0m\u001b[1;33m\u001b[0m\u001b[1;33m\u001b[0m\u001b[0m\n",
      "\u001b[1;32m<ipython-input-111-307597f930a6>\u001b[0m in \u001b[0;36mscrape_bodog_basketball\u001b[1;34m(d)\u001b[0m\n\u001b[0;32m     33\u001b[0m         \u001b[1;31m#print(c.get_attribute(\"outerHTML\"))\u001b[0m\u001b[1;33m\u001b[0m\u001b[1;33m\u001b[0m\u001b[1;33m\u001b[0m\u001b[0m\n\u001b[0;32m     34\u001b[0m \u001b[1;33m\u001b[0m\u001b[0m\n\u001b[1;32m---> 35\u001b[1;33m         \u001b[0mtemp_dict_list\u001b[0m\u001b[1;33m,\u001b[0m\u001b[0mhist_market_elem\u001b[0m\u001b[1;33m=\u001b[0m\u001b[0mscrape_bodog_coupon\u001b[0m\u001b[1;33m(\u001b[0m\u001b[0mcoupon\u001b[0m\u001b[1;33m,\u001b[0m\u001b[0mic\u001b[0m\u001b[1;33m,\u001b[0m\u001b[0mhist_market_elem\u001b[0m\u001b[1;33m)\u001b[0m\u001b[1;33m\u001b[0m\u001b[1;33m\u001b[0m\u001b[0m\n\u001b[0m\u001b[0;32m     36\u001b[0m         \u001b[1;32mif\u001b[0m \u001b[0mtemp_dict_list\u001b[0m\u001b[1;33m:\u001b[0m \u001b[0mbet_list\u001b[0m\u001b[1;33m=\u001b[0m\u001b[0mbet_list\u001b[0m \u001b[1;33m+\u001b[0m \u001b[0mtemp_dict_list\u001b[0m\u001b[1;33m\u001b[0m\u001b[1;33m\u001b[0m\u001b[0m\n\u001b[0;32m     37\u001b[0m \u001b[1;33m\u001b[0m\u001b[0m\n",
      "\u001b[1;32m<ipython-input-111-307597f930a6>\u001b[0m in \u001b[0;36mscrape_bodog_coupon\u001b[1;34m(coupon_elem, counter, hist_market_elem)\u001b[0m\n\u001b[0;32m     74\u001b[0m \u001b[1;33m\u001b[0m\u001b[0m\n\u001b[0;32m     75\u001b[0m         \u001b[1;32mfor\u001b[0m \u001b[0mib\u001b[0m\u001b[1;33m,\u001b[0m\u001b[0mbet\u001b[0m \u001b[1;32min\u001b[0m \u001b[0menumerate\u001b[0m\u001b[1;33m(\u001b[0m\u001b[0mbet_price\u001b[0m\u001b[1;33m[\u001b[0m\u001b[0mim\u001b[0m\u001b[1;33m*\u001b[0m\u001b[1;36m2\u001b[0m\u001b[1;33m:\u001b[0m\u001b[0mim\u001b[0m\u001b[1;33m*\u001b[0m\u001b[1;36m2\u001b[0m\u001b[1;33m+\u001b[0m\u001b[1;36m2\u001b[0m\u001b[1;33m]\u001b[0m\u001b[1;33m)\u001b[0m\u001b[1;33m:\u001b[0m\u001b[1;33m\u001b[0m\u001b[1;33m\u001b[0m\u001b[0m\n\u001b[1;32m---> 76\u001b[1;33m             \u001b[0mprice\u001b[0m\u001b[1;33m=\u001b[0m\u001b[0mbet\u001b[0m\u001b[1;33m.\u001b[0m\u001b[0mget_attribute\u001b[0m\u001b[1;33m(\u001b[0m\u001b[1;34m\"innerText\"\u001b[0m\u001b[1;33m)\u001b[0m\u001b[1;33m\u001b[0m\u001b[1;33m\u001b[0m\u001b[0m\n\u001b[0m\u001b[0;32m     77\u001b[0m             \u001b[0mtemp_dict\u001b[0m\u001b[1;33m=\u001b[0m\u001b[0mmeta_dict\u001b[0m\u001b[1;33m.\u001b[0m\u001b[0mcopy\u001b[0m\u001b[1;33m(\u001b[0m\u001b[1;33m)\u001b[0m\u001b[1;33m\u001b[0m\u001b[1;33m\u001b[0m\u001b[0m\n\u001b[0;32m     78\u001b[0m \u001b[1;33m\u001b[0m\u001b[0m\n",
      "\u001b[1;32m~\\anaconda3\\lib\\site-packages\\selenium\\webdriver\\remote\\webelement.py\u001b[0m in \u001b[0;36mget_attribute\u001b[1;34m(self, name)\u001b[0m\n\u001b[0;32m    137\u001b[0m         \u001b[0mattributeValue\u001b[0m \u001b[1;33m=\u001b[0m \u001b[1;34m''\u001b[0m\u001b[1;33m\u001b[0m\u001b[1;33m\u001b[0m\u001b[0m\n\u001b[0;32m    138\u001b[0m         \u001b[1;32mif\u001b[0m \u001b[0mself\u001b[0m\u001b[1;33m.\u001b[0m\u001b[0m_w3c\u001b[0m\u001b[1;33m:\u001b[0m\u001b[1;33m\u001b[0m\u001b[1;33m\u001b[0m\u001b[0m\n\u001b[1;32m--> 139\u001b[1;33m             attributeValue = self.parent.execute_script(\n\u001b[0m\u001b[0;32m    140\u001b[0m                 \u001b[1;34m\"return (%s).apply(null, arguments);\"\u001b[0m \u001b[1;33m%\u001b[0m \u001b[0mgetAttribute_js\u001b[0m\u001b[1;33m,\u001b[0m\u001b[1;33m\u001b[0m\u001b[1;33m\u001b[0m\u001b[0m\n\u001b[0;32m    141\u001b[0m                 self, name)\n",
      "\u001b[1;32m~\\anaconda3\\lib\\site-packages\\selenium\\webdriver\\remote\\webdriver.py\u001b[0m in \u001b[0;36mexecute_script\u001b[1;34m(self, script, *args)\u001b[0m\n\u001b[0;32m    632\u001b[0m             \u001b[0mcommand\u001b[0m \u001b[1;33m=\u001b[0m \u001b[0mCommand\u001b[0m\u001b[1;33m.\u001b[0m\u001b[0mEXECUTE_SCRIPT\u001b[0m\u001b[1;33m\u001b[0m\u001b[1;33m\u001b[0m\u001b[0m\n\u001b[0;32m    633\u001b[0m \u001b[1;33m\u001b[0m\u001b[0m\n\u001b[1;32m--> 634\u001b[1;33m         return self.execute(command, {\n\u001b[0m\u001b[0;32m    635\u001b[0m             \u001b[1;34m'script'\u001b[0m\u001b[1;33m:\u001b[0m \u001b[0mscript\u001b[0m\u001b[1;33m,\u001b[0m\u001b[1;33m\u001b[0m\u001b[1;33m\u001b[0m\u001b[0m\n\u001b[0;32m    636\u001b[0m             'args': converted_args})['value']\n",
      "\u001b[1;32m~\\anaconda3\\lib\\site-packages\\selenium\\webdriver\\remote\\webdriver.py\u001b[0m in \u001b[0;36mexecute\u001b[1;34m(self, driver_command, params)\u001b[0m\n\u001b[0;32m    319\u001b[0m         \u001b[0mresponse\u001b[0m \u001b[1;33m=\u001b[0m \u001b[0mself\u001b[0m\u001b[1;33m.\u001b[0m\u001b[0mcommand_executor\u001b[0m\u001b[1;33m.\u001b[0m\u001b[0mexecute\u001b[0m\u001b[1;33m(\u001b[0m\u001b[0mdriver_command\u001b[0m\u001b[1;33m,\u001b[0m \u001b[0mparams\u001b[0m\u001b[1;33m)\u001b[0m\u001b[1;33m\u001b[0m\u001b[1;33m\u001b[0m\u001b[0m\n\u001b[0;32m    320\u001b[0m         \u001b[1;32mif\u001b[0m \u001b[0mresponse\u001b[0m\u001b[1;33m:\u001b[0m\u001b[1;33m\u001b[0m\u001b[1;33m\u001b[0m\u001b[0m\n\u001b[1;32m--> 321\u001b[1;33m             \u001b[0mself\u001b[0m\u001b[1;33m.\u001b[0m\u001b[0merror_handler\u001b[0m\u001b[1;33m.\u001b[0m\u001b[0mcheck_response\u001b[0m\u001b[1;33m(\u001b[0m\u001b[0mresponse\u001b[0m\u001b[1;33m)\u001b[0m\u001b[1;33m\u001b[0m\u001b[1;33m\u001b[0m\u001b[0m\n\u001b[0m\u001b[0;32m    322\u001b[0m             response['value'] = self._unwrap_value(\n\u001b[0;32m    323\u001b[0m                 response.get('value', None))\n",
      "\u001b[1;32m~\\anaconda3\\lib\\site-packages\\selenium\\webdriver\\remote\\errorhandler.py\u001b[0m in \u001b[0;36mcheck_response\u001b[1;34m(self, response)\u001b[0m\n\u001b[0;32m    240\u001b[0m                 \u001b[0malert_text\u001b[0m \u001b[1;33m=\u001b[0m \u001b[0mvalue\u001b[0m\u001b[1;33m[\u001b[0m\u001b[1;34m'alert'\u001b[0m\u001b[1;33m]\u001b[0m\u001b[1;33m.\u001b[0m\u001b[0mget\u001b[0m\u001b[1;33m(\u001b[0m\u001b[1;34m'text'\u001b[0m\u001b[1;33m)\u001b[0m\u001b[1;33m\u001b[0m\u001b[1;33m\u001b[0m\u001b[0m\n\u001b[0;32m    241\u001b[0m             \u001b[1;32mraise\u001b[0m \u001b[0mexception_class\u001b[0m\u001b[1;33m(\u001b[0m\u001b[0mmessage\u001b[0m\u001b[1;33m,\u001b[0m \u001b[0mscreen\u001b[0m\u001b[1;33m,\u001b[0m \u001b[0mstacktrace\u001b[0m\u001b[1;33m,\u001b[0m \u001b[0malert_text\u001b[0m\u001b[1;33m)\u001b[0m\u001b[1;33m\u001b[0m\u001b[1;33m\u001b[0m\u001b[0m\n\u001b[1;32m--> 242\u001b[1;33m         \u001b[1;32mraise\u001b[0m \u001b[0mexception_class\u001b[0m\u001b[1;33m(\u001b[0m\u001b[0mmessage\u001b[0m\u001b[1;33m,\u001b[0m \u001b[0mscreen\u001b[0m\u001b[1;33m,\u001b[0m \u001b[0mstacktrace\u001b[0m\u001b[1;33m)\u001b[0m\u001b[1;33m\u001b[0m\u001b[1;33m\u001b[0m\u001b[0m\n\u001b[0m\u001b[0;32m    243\u001b[0m \u001b[1;33m\u001b[0m\u001b[0m\n\u001b[0;32m    244\u001b[0m     \u001b[1;32mdef\u001b[0m \u001b[0m_value_or_default\u001b[0m\u001b[1;33m(\u001b[0m\u001b[0mself\u001b[0m\u001b[1;33m,\u001b[0m \u001b[0mobj\u001b[0m\u001b[1;33m,\u001b[0m \u001b[0mkey\u001b[0m\u001b[1;33m,\u001b[0m \u001b[0mdefault\u001b[0m\u001b[1;33m)\u001b[0m\u001b[1;33m:\u001b[0m\u001b[1;33m\u001b[0m\u001b[1;33m\u001b[0m\u001b[0m\n",
      "\u001b[1;31mStaleElementReferenceException\u001b[0m: Message: stale element reference: element is not attached to the page document\n  (Session info: chrome=107.0.5304.88)\n"
     ]
    }
   ],
   "source": [
    "d=init_chromedriver()\n",
    "bb_df=scrape_bodog_basketball(d)\n",
    "#bb_df.to_sql(\"fact_lines\",ent_engine,if_exists='append',index=False)"
   ]
  },
  {
   "cell_type": "code",
   "execution_count": null,
   "id": "929ca2da",
   "metadata": {},
   "outputs": [],
   "source": [
    "bb_df.head()"
   ]
  }
 ],
 "metadata": {
  "kernelspec": {
   "display_name": "Python 3",
   "language": "python",
   "name": "python3"
  },
  "language_info": {
   "codemirror_mode": {
    "name": "ipython",
    "version": 3
   },
   "file_extension": ".py",
   "mimetype": "text/x-python",
   "name": "python",
   "nbconvert_exporter": "python",
   "pygments_lexer": "ipython3",
   "version": "3.8.8"
  },
  "varInspector": {
   "cols": {
    "lenName": 16,
    "lenType": 16,
    "lenVar": 40
   },
   "kernels_config": {
    "python": {
     "delete_cmd_postfix": "",
     "delete_cmd_prefix": "del ",
     "library": "var_list.py",
     "varRefreshCmd": "print(var_dic_list())"
    },
    "r": {
     "delete_cmd_postfix": ") ",
     "delete_cmd_prefix": "rm(",
     "library": "var_list.r",
     "varRefreshCmd": "cat(var_dic_list()) "
    }
   },
   "types_to_exclude": [
    "module",
    "function",
    "builtin_function_or_method",
    "instance",
    "_Feature"
   ],
   "window_display": false
  }
 },
 "nbformat": 4,
 "nbformat_minor": 5
}
